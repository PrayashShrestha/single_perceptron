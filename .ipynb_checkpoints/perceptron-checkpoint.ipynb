{
 "cells": [
  {
   "cell_type": "markdown",
   "id": "f8bbc4e3",
   "metadata": {},
   "source": [
    "# Implication of Perceptron"
   ]
  },
  {
   "cell_type": "code",
   "execution_count": 2,
   "id": "cd315231",
   "metadata": {},
   "outputs": [],
   "source": [
    "import matplotlib.pyplot as plt\n",
    "import numpy as np\n",
    "import joblib # FOR SAVING CREATED MODEL AS A BINARY FILE ( ALT : pickle)\n",
    "from matplotlib.colors import ListedColormap\n",
    "\n",
    "plt.style.use('fivethirtyeight')  # THIS IS STYLE OF GRAPHS "
   ]
  },
  {
   "cell_type": "code",
   "execution_count": null,
   "id": "f6c8b774",
   "metadata": {},
   "outputs": [],
   "source": []
  },
  {
   "cell_type": "code",
   "execution_count": null,
   "id": "f1c14ab1",
   "metadata": {},
   "outputs": [],
   "source": []
  }
 ],
 "metadata": {
  "kernelspec": {
   "display_name": "Python 3 (ipykernel)",
   "language": "python",
   "name": "python3"
  },
  "language_info": {
   "codemirror_mode": {
    "name": "ipython",
    "version": 3
   },
   "file_extension": ".py",
   "mimetype": "text/x-python",
   "name": "python",
   "nbconvert_exporter": "python",
   "pygments_lexer": "ipython3",
   "version": "3.9.7"
  }
 },
 "nbformat": 4,
 "nbformat_minor": 5
}
